{
 "cells": [
  {
   "cell_type": "code",
   "execution_count": 20,
   "metadata": {},
   "outputs": [],
   "source": [
    "import torch\n",
    "import torch.optim as optim\n",
    "from torchsummary import summary\n",
    "from tqdm import tqdm\n",
    "import torch.nn as nn\n",
    "import torchvision.transforms as transforms\n"
   ]
  },
  {
   "cell_type": "code",
   "execution_count": 28,
   "metadata": {},
   "outputs": [],
   "source": [
    "from torch.utils.data import Dataset,DataLoader"
   ]
  },
  {
   "cell_type": "code",
   "execution_count": 4,
   "metadata": {},
   "outputs": [],
   "source": [
    "import model_skel"
   ]
  },
  {
   "cell_type": "code",
   "execution_count": 31,
   "metadata": {},
   "outputs": [],
   "source": [
    "model=model_skel.model_skel(16,32,16)"
   ]
  },
  {
   "cell_type": "code",
   "execution_count": 43,
   "metadata": {},
   "outputs": [],
   "source": [
    "class dataset_skel(Dataset):\n",
    "    import random\n",
    "    def __init__(self,size):\n",
    "        self.rand_data=torch.rand(size)\n",
    "    def __len__(self):\n",
    "        return len(self.rand_data)\n",
    "    def __getitem__(self,idx):\n",
    "        return self.rand_data[idx]"
   ]
  },
  {
   "cell_type": "code",
   "execution_count": 49,
   "metadata": {},
   "outputs": [],
   "source": [
    "train_ds=dataset_skel((32,16))\n",
    "valid_ds=dataset_skel((16,16))"
   ]
  },
  {
   "cell_type": "code",
   "execution_count": 51,
   "metadata": {},
   "outputs": [],
   "source": [
    "train_dl=DataLoader(train_ds,batch_size=8)\n",
    "valid_dl=DataLoader(valid_ds,batch_size=8)"
   ]
  },
  {
   "cell_type": "code",
   "execution_count": 52,
   "metadata": {},
   "outputs": [],
   "source": [
    "config_=dict()\n",
    "config_[\"lr\"]=0.3\n",
    "config_[\"crit\"]=nn.L1Loss()\n",
    "config_[\"optim\"]=optim.Adam(model.parameters(),lr=config_[\"lr\"])\n",
    "config_[\"save_dir\"]=\"models/\"\n",
    "config_[\"epochs\"]=10\n",
    "\n"
   ]
  },
  {
   "cell_type": "code",
   "execution_count": 54,
   "metadata": {},
   "outputs": [
    {
     "ename": "SyntaxError",
     "evalue": "invalid syntax (<ipython-input-54-0e530e54dbfb>, line 27)",
     "output_type": "error",
     "traceback": [
      "\u001b[1;36m  File \u001b[1;32m\"<ipython-input-54-0e530e54dbfb>\"\u001b[1;36m, line \u001b[1;32m27\u001b[0m\n\u001b[1;33m    config.[\"train_log\"].append(loss.item())\u001b[0m\n\u001b[1;37m           ^\u001b[0m\n\u001b[1;31mSyntaxError\u001b[0m\u001b[1;31m:\u001b[0m invalid syntax\n"
     ]
    }
   ],
   "source": [
    "def train(config,train_dl,valid_dl,model):\n",
    "    '''\n",
    "    config.optimizer: Training optimizer eg) Adam,SGD....\n",
    "    config.criterion: Loss eg) CrossEntropy, \n",
    "    config.lr: learning_rate\n",
    "    train_dl,valid_dl: Dataloader\n",
    "    model: target model\n",
    "    save_path\n",
    "    '''\n",
    "    for i in config[\"epochs\"]:\n",
    "        \n",
    "        model.train()\n",
    "        for batch_idx,(img,label) in enumerate(train_dl):\n",
    "            #Zero_grad_Optimizer\n",
    "            config[\"optim\"].zero_grad()\n",
    "            \n",
    "            output=model(img)\n",
    "            \n",
    "            #Measure Loss\n",
    "            loss=config[\"crit\"](img,label)\n",
    "            loss.backward()\n",
    "            \n",
    "            #Update Parameters\n",
    "            config[\"optim\"].step()\n",
    "            \n",
    "            if batch_idx % config[\"log_interval\"]:\n",
    "                config[\"train_log\"].append(loss.item())\n",
    "                \n",
    "            break\n",
    "                \n",
    "        model.eval()\n",
    "        for _,(img_label) in enumerate(valid_dl):\n",
    "            output=model(img)\n",
    "            \n",
    "            #Measure Loss\n",
    "            loss=config[\"crit\"]\n",
    "\n",
    "            #Update Parameters\n",
    "            config[]\"optim\"].step()\n",
    "            \n",
    "            if batch_idx % config[\"log_interval\"]:\n",
    "                config[]\"train_log\"].append(loss.item())\n",
    "                \n",
    "            break\n",
    "        \n",
    "            \n",
    "            \n",
    "            \n",
    "    \n",
    "    "
   ]
  },
  {
   "cell_type": "code",
   "execution_count": null,
   "metadata": {},
   "outputs": [],
   "source": []
  }
 ],
 "metadata": {
  "kernelspec": {
   "display_name": "Python 3",
   "language": "python",
   "name": "python3"
  },
  "language_info": {
   "codemirror_mode": {
    "name": "ipython",
    "version": 3
   },
   "file_extension": ".py",
   "mimetype": "text/x-python",
   "name": "python",
   "nbconvert_exporter": "python",
   "pygments_lexer": "ipython3",
   "version": "3.7.9"
  }
 },
 "nbformat": 4,
 "nbformat_minor": 4
}
