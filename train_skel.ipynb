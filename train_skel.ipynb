{
 "cells": [
  {
   "cell_type": "code",
   "execution_count": 61,
   "metadata": {},
   "outputs": [],
   "source": [
    "import torch\n",
    "import torch.optim as optim\n",
    "from torchsummary import summary\n",
    "from tqdm import tqdm\n",
    "import torch.nn as nn\n",
    "import torchvision.transforms as transforms\n",
    "from torch.utils.data import Dataset,DataLoader\n",
    "from torchvision.datasets import MNIST"
   ]
  },
  {
   "cell_type": "code",
   "execution_count": 62,
   "metadata": {},
   "outputs": [],
   "source": [
    "MNIST_Transform=transforms.Compose([\n",
    "    transforms.Pad((18,18),fill=0),\n",
    "    transforms.RandomAffine(0, translate=(18/64,18/64)),\n",
    "    transforms.ToTensor(),\n",
    "    \n",
    "    transforms.Normalize((0.5,),(0.5,))\n",
    "                                       ]\n",
    "            )"
   ]
  },
  {
   "cell_type": "code",
   "execution_count": 63,
   "metadata": {},
   "outputs": [],
   "source": [
    "mnist_train = MNIST(root='MNIST_DATASET/', # 다운로드 경로 지정\n",
    "                          train=True, # True를 지정하면 훈련 데이터로 다운로드\n",
    "                          transform=MNIST_Transform, # 텐서로 변환\n",
    "                          download=True)\n",
    "\n",
    "mnist_test = MNIST(root='MNIST_DATASET/', # 다운로드 경로 지정\n",
    "                         train=False, # False를 지정하면 테스트 데이터로 다운로드\n",
    "                         transform=MNIST_Transform, # 텐서로 변환\n",
    "                         download=True)\n",
    "\n"
   ]
  },
  {
   "cell_type": "code",
   "execution_count": 64,
   "metadata": {},
   "outputs": [],
   "source": [
    "train_dl = torch.utils.data.DataLoader(dataset=mnist_train,\n",
    "                                          batch_size=128,\n",
    "                                          shuffle=True,\n",
    "                                          drop_last=True)\n",
    "valid_dl = torch.utils.data.DataLoader(dataset=mnist_test,\n",
    "                                          batch_size=128,\n",
    "                                          shuffle=False,\n",
    "                                          drop_last=True)"
   ]
  },
  {
   "cell_type": "code",
   "execution_count": 65,
   "metadata": {},
   "outputs": [],
   "source": [
    "class CNN(torch.nn.Module):\n",
    "\n",
    "    def __init__(self):\n",
    "        super(CNN, self).__init__()\n",
    "\n",
    "        self.layer1 = torch.nn.Sequential(\n",
    "            nn.Conv2d(1, 32,3, 1, 1),\n",
    "            nn.ReLU(),\n",
    "            nn.MaxPool2d(kernel_size=2, stride=2))\n",
    "\n",
    "        self.layer2 = torch.nn.Sequential(\n",
    "            nn.Conv2d(32, 64, 3, 1, 1),\n",
    "            nn.ReLU(),\n",
    "            nn.MaxPool2d(kernel_size=2, stride=2))\n",
    "        \n",
    "        self.layer3 = torch.nn.Sequential(\n",
    "            nn.Conv2d(64, 32, 3, 1, 1),\n",
    "            nn.ReLU(),\n",
    "            nn.MaxPool2d(kernel_size=2, stride=2))\n",
    "                \n",
    "            \n",
    "        self.layer4= torch.nn.Sequential(\n",
    "            nn.Conv2d(32                    , 32, 3, 1, 1),\n",
    "            nn.ReLU(),\n",
    "            nn.MaxPool2d(kernel_size=2, stride=2))\n",
    "                    \n",
    "        self.classifier = torch.nn.Sequential(\n",
    "            nn.Linear(4 * 4 * 32, 625, bias=True),\n",
    "            nn.ReLU(),\n",
    "            nn.Dropout(p=0.1),\n",
    "            nn.Linear(625, 10, bias=True))\n",
    "\n",
    "    def forward(self, x):\n",
    "        out = self.layer1(x)\n",
    "        out = self.layer2(out)\n",
    "        out = self.layer3(out)\n",
    "        out=self.layer4(out)\n",
    "        out = out.view(out.size(0), -1)   # Flatten them for FC\n",
    "        out = self.classifier(out)\n",
    "        return out"
   ]
  },
  {
   "cell_type": "code",
   "execution_count": 66,
   "metadata": {},
   "outputs": [],
   "source": [
    "model=CNN()"
   ]
  },
  {
   "cell_type": "code",
   "execution_count": 67,
   "metadata": {},
   "outputs": [],
   "source": [
    "config_=dict()\n",
    "config_[\"lr\"]=0.0005\n",
    "config_[\"crit\"]=nn.CrossEntropyLoss()\n",
    "config_[\"optim\"]=optim.Adam(model.parameters(),lr=config_[\"lr\"])\n",
    "config_[\"save_dir\"]=\"models/\"\n",
    "config_[\"epochs\"]=10\n",
    "config_[\"train_log\"]=[]\n",
    "config_[\"valid_log\"]=[]\n",
    "\n",
    "config_[\"accuracy\"]=True\n",
    "config_[\"train_acc_log\"]=[]\n",
    "config_[\"valid_acc_log\"]=[]\n",
    "config_[\"log_interval\"]=250\n",
    "config_[\"device\"]=\"cuda\"\n"
   ]
  },
  {
   "cell_type": "code",
   "execution_count": 68,
   "metadata": {},
   "outputs": [],
   "source": [
    "from train_skel import train"
   ]
  },
  {
   "cell_type": "code",
   "execution_count": 69,
   "metadata": {},
   "outputs": [
    {
     "name": "stdout",
     "output_type": "stream",
     "text": [
      "Epochs : 1\n",
      "\n",
      "Batch 1/468 Loss: 2.299394369125366\n",
      "Accuracy 0.109375\n",
      "\n",
      "Batch 251/468 Loss: 0.45939046144485474\n",
      "Accuracy 0.4934636454183267\n",
      "\n",
      "Validation_Loss: 0.21909312598216227\n",
      "Validation_Acc: 0.9305889423076923\n",
      "Epochs : 2\n",
      "\n",
      "Batch 1/468 Loss: 0.24686235189437866\n",
      "Accuracy 0.9140625\n",
      "\n",
      "Batch 251/468 Loss: 0.16042663156986237\n",
      "Accuracy 0.9342006972111554\n",
      "\n",
      "Validation_Loss: 0.11454007194305842\n",
      "Validation_Acc: 0.9649439102564102\n",
      "Epochs : 3\n",
      "\n",
      "Batch 1/468 Loss: 0.15067796409130096\n",
      "Accuracy 0.9453125\n",
      "\n",
      "Batch 251/468 Loss: 0.08930854499340057\n",
      "Accuracy 0.958011703187251\n",
      "\n",
      "Validation_Loss: 0.09432251632022552\n",
      "Validation_Acc: 0.9681490384615384\n",
      "Epochs : 4\n",
      "\n",
      "Batch 1/468 Loss: 0.15247270464897156\n",
      "Accuracy 0.953125\n",
      "\n",
      "Batch 251/468 Loss: 0.08388377726078033\n",
      "Accuracy 0.967722858565737\n",
      "\n",
      "Validation_Loss: 0.0694474244538026\n",
      "Validation_Acc: 0.9763621794871795\n",
      "Epochs : 5\n",
      "\n",
      "Batch 1/468 Loss: 0.02760142646729946\n",
      "Accuracy 0.9921875\n",
      "\n",
      "Batch 251/468 Loss: 0.05011797696352005\n",
      "Accuracy 0.9738857071713147\n",
      "\n",
      "Validation_Loss: 0.06966311606363608\n",
      "Validation_Acc: 0.9776642628205128\n",
      "Epochs : 6\n",
      "\n",
      "Batch 1/468 Loss: 0.050729911774396896\n",
      "Accuracy 0.984375\n",
      "\n",
      "Batch 251/468 Loss: 0.039002832025289536\n",
      "Accuracy 0.9762201195219123\n",
      "\n",
      "Validation_Loss: 0.05269607918289227\n",
      "Validation_Acc: 0.9829727564102564\n",
      "Epochs : 7\n",
      "\n",
      "Batch 1/468 Loss: 0.04186251387000084\n",
      "Accuracy 1.0\n",
      "\n",
      "Batch 251/468 Loss: 0.08853813260793686\n",
      "Accuracy 0.9794260458167331\n",
      "\n",
      "Validation_Loss: 0.04707341094334156\n",
      "Validation_Acc: 0.9840745192307693\n",
      "Epochs : 8\n",
      "\n",
      "Batch 1/468 Loss: 0.09328082203865051\n",
      "Accuracy 0.9765625\n",
      "\n",
      "Batch 251/468 Loss: 0.05421246588230133\n",
      "Accuracy 0.9807644422310757\n",
      "\n",
      "Validation_Loss: 0.0417262722666447\n",
      "Validation_Acc: 0.9865785256410257\n",
      "Epochs : 9\n",
      "\n",
      "Batch 1/468 Loss: 0.0894080176949501\n",
      "Accuracy 0.96875\n",
      "\n",
      "Batch 251/468 Loss: 0.0426638126373291\n",
      "Accuracy 0.9813869521912351\n",
      "\n",
      "Validation_Loss: 0.04188827344049246\n",
      "Validation_Acc: 0.9867788461538461\n",
      "Epochs : 10\n",
      "\n",
      "Batch 1/468 Loss: 0.08153068274259567\n",
      "Accuracy 0.9765625\n",
      "\n",
      "Batch 251/468 Loss: 0.03524145111441612\n",
      "Accuracy 0.9818227091633466\n",
      "\n",
      "Validation_Loss: 0.03848801030275913\n",
      "Validation_Acc: 0.9878806089743589\n"
     ]
    }
   ],
   "source": [
    "config_,model=train(config_,train_dl,valid_dl,model)"
   ]
  },
  {
   "cell_type": "code",
   "execution_count": 70,
   "metadata": {},
   "outputs": [],
   "source": [
    "import matplotlib.pyplot as plt"
   ]
  },
  {
   "cell_type": "code",
   "execution_count": 71,
   "metadata": {},
   "outputs": [
    {
     "data": {
      "text/plain": [
       "[<matplotlib.lines.Line2D at 0x2ba8aa84408>]"
      ]
     },
     "execution_count": 71,
     "metadata": {},
     "output_type": "execute_result"
    },
    {
     "data": {
      "image/png": "[encoded data removed]",
      "text/plain": [
       "<Figure size 432x288 with 1 Axes>"
      ]
     },
     "metadata": {
      "needs_background": "light"
     },
     "output_type": "display_data"
    }
   ],
   "source": [
    "import numpy as np\n",
    "plt.plot(config_[\"train_log\"])\n",
    "plt.plot(np.arange(0,len(config_[\"train_log\"]),len(config_[\"train_log\"])/10),config_[\"valid_log\"])"
   ]
  },
  {
   "cell_type": "code",
   "execution_count": null,
   "metadata": {},
   "outputs": [],
   "source": []
  },
  {
   "cell_type": "code",
   "execution_count": 54,
   "metadata": {},
   "outputs": [],
   "source": [
    "MNIST_Transform_translatino=transforms.Compose([\n",
    "    transforms.Pad((18,18),fill=0),\n",
    "    transforms.RandomAffine(0, translate=(18/64,18/64)),\n",
    "    transforms.ToTensor(),\n",
    "    transforms.Normalize((0.5,),(0.5,))]\n",
    "            )"
   ]
  },
  {
   "cell_type": "code",
   "execution_count": 55,
   "metadata": {},
   "outputs": [],
   "source": [
    "mnist_test_translated = MNIST(root='MNIST_DATASET/', # 다운로드 경로 지정\n",
    "                         train=False, # False를 지정하면 테스트 데이터로 다운로드\n",
    "                         transform=MNIST_Transform_translatino, # 텐서로 변환\n",
    "                         download=True)\n",
    "\n"
   ]
  },
  {
   "cell_type": "code",
   "execution_count": 56,
   "metadata": {},
   "outputs": [],
   "source": [
    "test_dl = torch.utils.data.DataLoader(dataset=mnist_test_translated,\n",
    "                                          batch_size=128,\n",
    "                                          drop_last=True)"
   ]
  },
  {
   "cell_type": "code",
   "execution_count": 57,
   "metadata": {},
   "outputs": [
    {
     "data": {
      "image/png": "[encoded data removed]",
      "text/plain": [
       "<PIL.Image.Image image mode=L size=64x64 at 0x2BA8A9EA408>"
      ]
     },
     "execution_count": 57,
     "metadata": {},
     "output_type": "execute_result"
    }
   ],
   "source": [
    "transforms.ToPILImage()(mnist_test_translated[0][0]*0.5+0.5)"
   ]
  },
  {
   "cell_type": "code",
   "execution_count": 58,
   "metadata": {},
   "outputs": [],
   "source": [
    "from inference import infer"
   ]
  },
  {
   "cell_type": "code",
   "execution_count": 59,
   "metadata": {},
   "outputs": [
    {
     "name": "stdout",
     "output_type": "stream",
     "text": [
      "Validation_Loss: 0.03890978975985677\n",
      "Validation_Acc: 0.9875801282051282\n"
     ]
    }
   ],
   "source": [
    "config_,acc=infer(config_,test_dl,model)"
   ]
  },
  {
   "cell_type": "code",
   "execution_count": null,
   "metadata": {},
   "outputs": [],
   "source": []
  }
 ],
 "metadata": {
  "kernelspec": {
   "display_name": "Python 3",
   "language": "python",
   "name": "python3"
  },
  "language_info": {
   "codemirror_mode": {
    "name": "ipython",
    "version": 3
   },
   "file_extension": ".py",
   "mimetype": "text/x-python",
   "name": "python",
   "nbconvert_exporter": "python",
   "pygments_lexer": "ipython3",
   "version": "3.7.9"
  }
 },
 "nbformat": 4,
 "nbformat_minor": 4
}
