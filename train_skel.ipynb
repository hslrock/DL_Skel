{
 "cells": [
  {
   "cell_type": "code",
   "execution_count": 27,
   "metadata": {},
   "outputs": [],
   "source": [
    "import torch\n",
    "import torch.optim as optim\n",
    "from torchsummary import summary\n",
    "from tqdm import tqdm\n",
    "import torch.nn as nn\n",
    "import torchvision.transforms as transforms\n",
    "from torch.utils.data import Dataset,DataLoader\n",
    "from torchvision.datasets import MNIST"
   ]
  },
  {
   "cell_type": "code",
   "execution_count": 28,
   "metadata": {},
   "outputs": [],
   "source": [
    "MNIST_Transform=transforms.Compose([\n",
    "    transforms.Pad((18,18),fill=0),\n",
    "    transforms.ToTensor(),\n",
    "    transforms.Normalize((0.5,),(0.5,))\n",
    "                                       ]\n",
    "            )"
   ]
  },
  {
   "cell_type": "code",
   "execution_count": 29,
   "metadata": {},
   "outputs": [],
   "source": [
    "mnist_train = MNIST(root='MNIST_DATASET/', # 다운로드 경로 지정\n",
    "                          train=True, # True를 지정하면 훈련 데이터로 다운로드\n",
    "                          transform=MNIST_Transform, # 텐서로 변환\n",
    "                          download=True)\n",
    "\n",
    "mnist_test = MNIST(root='MNIST_DATASET/', # 다운로드 경로 지정\n",
    "                         train=False, # False를 지정하면 테스트 데이터로 다운로드\n",
    "                         transform=MNIST_Transform, # 텐서로 변환\n",
    "                         download=True)\n",
    "\n",
    "\n",
    "train_set, val_set = torch.utils.data.random_split(mnist_train, [50000, 10000])\n"
   ]
  },
  {
   "cell_type": "code",
   "execution_count": 30,
   "metadata": {},
   "outputs": [],
   "source": [
    "train_dl = torch.utils.data.DataLoader(dataset=train_set,\n",
    "                                          batch_size=64,\n",
    "                                          shuffle=True,\n",
    "                                          drop_last=True)\n",
    "valid_dl = torch.utils.data.DataLoader(dataset=val_set,\n",
    "                                          batch_size=64,\n",
    "                                          shuffle=False,\n",
    "                                          drop_last=True)"
   ]
  },
  {
   "cell_type": "code",
   "execution_count": 31,
   "metadata": {},
   "outputs": [],
   "source": [
    "class CNN(torch.nn.Module):\n",
    "\n",
    "    def __init__(self):\n",
    "        super(CNN, self).__init__()\n",
    "\n",
    "        self.layer1 = torch.nn.Sequential(\n",
    "            nn.Conv2d(1, 32,3, 1, 1),\n",
    "            nn.ReLU(),\n",
    "            nn.MaxPool2d(kernel_size=2, stride=2))\n",
    "\n",
    "        self.layer2 = torch.nn.Sequential(\n",
    "            nn.Conv2d(32, 64, 3, 1, 1),\n",
    "            nn.ReLU(),\n",
    "            nn.MaxPool2d(kernel_size=2, stride=2))\n",
    "        \n",
    "        self.layer3 = torch.nn.Sequential(\n",
    "            nn.Conv2d(64, 32, 3, 1, 1),\n",
    "            nn.ReLU(),\n",
    "            nn.MaxPool2d(kernel_size=2, stride=2))\n",
    "                \n",
    "            \n",
    "        self.layer4= torch.nn.Sequential(\n",
    "            nn.Conv2d(32                    , 32, 3, 1, 1),\n",
    "            nn.ReLU(),\n",
    "            nn.MaxPool2d(kernel_size=2, stride=2))\n",
    "                    \n",
    "        self.classifier = torch.nn.Sequential(\n",
    "            nn.Linear(4 * 4 * 32, 625, bias=True),\n",
    "            nn.ReLU(),\n",
    "            nn.Dropout(p=0.1),\n",
    "            nn.Linear(625, 10, bias=True))\n",
    "\n",
    "    def forward(self, x):\n",
    "        out = self.layer1(x)\n",
    "        out = self.layer2(out)\n",
    "        out = self.layer3(out)\n",
    "        out=self.layer4(out)\n",
    "        out = out.view(out.size(0), -1)   # Flatten them for FC\n",
    "        out = self.classifier(out)\n",
    "        return out"
   ]
  },
  {
   "cell_type": "code",
   "execution_count": 32,
   "metadata": {},
   "outputs": [],
   "source": [
    "model=CNN()"
   ]
  },
  {
   "cell_type": "code",
   "execution_count": 33,
   "metadata": {},
   "outputs": [],
   "source": [
    "config_=dict()\n",
    "config_[\"lr\"]=0.01\n",
    "config_[\"crit\"]=nn.CrossEntropyLoss()\n",
    "config_[\"optim\"]=optim.Adam(model.parameters(),lr=config_[\"lr\"])\n",
    "config_[\"save_dir\"]=\"models/\"\n",
    "config_[\"epochs\"]=10\n",
    "config_[\"train_log\"]=[]\n",
    "config_[\"valid_log\"]=[]\n",
    "\n",
    "config_[\"accuracy\"]=True\n",
    "config_[\"train_acc_log\"]=[]\n",
    "config_[\"valid_acc_log\"]=[]\n",
    "config_[\"log_interval\"]=200\n",
    "config_[\"device\"]=\"cuda\"\n"
   ]
  },
  {
   "cell_type": "code",
   "execution_count": 34,
   "metadata": {},
   "outputs": [],
   "source": [
    "from train_skel import train"
   ]
  },
  {
   "cell_type": "code",
   "execution_count": null,
   "metadata": {},
   "outputs": [
    {
     "name": "stdout",
     "output_type": "stream",
     "text": [
      "Epochs : 1\n",
      "\n",
      "Batch 1/781 Loss: 2.3056485652923584\n",
      "Accuracy 0.0625\n",
      "\n",
      "Batch 201/781 Loss: 2.3140652179718018\n",
      "Accuracy 0.1109297263681592\n",
      "\n",
      "Batch 401/781 Loss: 2.312519073486328\n",
      "Accuracy 0.10995947630922694\n",
      "\n",
      "Batch 601/781 Loss: 2.293179750442505\n",
      "Accuracy 0.11090890183028286\n",
      "\n",
      "Validation_Loss: 2.2983193397521973\n",
      "Validation_Acc: 0.125\n",
      "Epochs : 2\n",
      "\n",
      "Batch 1/781 Loss: 2.298830032348633\n",
      "Accuracy 0.078125\n",
      "\n",
      "Batch 201/781 Loss: 2.302023410797119\n",
      "Accuracy 0.10486629353233831\n"
     ]
    }
   ],
   "source": [
    "config_,model=train(config_,train_dl,valid_dl,model)"
   ]
  },
  {
   "cell_type": "code",
   "execution_count": null,
   "metadata": {},
   "outputs": [],
   "source": [
    "import matplotlib.pyplot as plt"
   ]
  },
  {
   "cell_type": "code",
   "execution_count": null,
   "metadata": {},
   "outputs": [],
   "source": [
    "plt.plot(config_[\"train_log\"])\n",
    "plt.plot(np.arange(0,len(config_[\"train_log\"]),len(config_[\"train_log\"])/10),config_[\"valid_log\"])"
   ]
  },
  {
   "cell_type": "code",
   "execution_count": null,
   "metadata": {},
   "outputs": [],
   "source": [
    "import numpy as np\n",
    "np.arange(0,len(config_[\"train_log\"])+1,len(config_[\"train_log\"])/10)"
   ]
  },
  {
   "cell_type": "code",
   "execution_count": null,
   "metadata": {},
   "outputs": [],
   "source": []
  }
 ],
 "metadata": {
  "kernelspec": {
   "display_name": "Python 3",
   "language": "python",
   "name": "python3"
  },
  "language_info": {
   "codemirror_mode": {
    "name": "ipython",
    "version": 3
   },
   "file_extension": ".py",
   "mimetype": "text/x-python",
   "name": "python",
   "nbconvert_exporter": "python",
   "pygments_lexer": "ipython3",
   "version": "3.7.9"
  }
 },
 "nbformat": 4,
 "nbformat_minor": 4
}
