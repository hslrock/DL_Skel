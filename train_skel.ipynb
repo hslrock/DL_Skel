{
 "cells": [
  {
   "cell_type": "code",
   "execution_count": 86,
   "metadata": {},
   "outputs": [],
   "source": [
    "import torch\n",
    "import torch.optim as optim\n",
    "from torchsummary import summary\n",
    "from tqdm import tqdm\n",
    "import torch.nn as nn\n",
    "import torchvision.transforms as transforms\n"
   ]
  },
  {
   "cell_type": "code",
   "execution_count": 87,
   "metadata": {},
   "outputs": [],
   "source": [
    "from torch.utils.data import Dataset,DataLoader"
   ]
  },
  {
   "cell_type": "code",
   "execution_count": 88,
   "metadata": {},
   "outputs": [],
   "source": [
    "import model_skel"
   ]
  },
  {
   "cell_type": "code",
   "execution_count": 89,
   "metadata": {},
   "outputs": [],
   "source": [
    "model=model_skel.model_skel(16,32,16)"
   ]
  },
  {
   "cell_type": "code",
   "execution_count": 96,
   "metadata": {},
   "outputs": [],
   "source": [
    "class dataset_skel(Dataset):\n",
    "    import random\n",
    "    def __init__(self,size):\n",
    "        self.rand_data=torch.rand(size,requires_grad=True)\n",
    "    def __len__(self):\n",
    "        return len(self.rand_data)\n",
    "    def __getitem__(self,idx):\n",
    "        return self.rand_data[idx],self.rand_data[idx]"
   ]
  },
  {
   "cell_type": "code",
   "execution_count": 97,
   "metadata": {},
   "outputs": [],
   "source": [
    "train_ds=dataset_skel((32,16))\n",
    "valid_ds=dataset_skel((16,16))"
   ]
  },
  {
   "cell_type": "code",
   "execution_count": 98,
   "metadata": {},
   "outputs": [],
   "source": [
    "train_dl=DataLoader(train_ds,batch_size=8)\n",
    "valid_dl=DataLoader(valid_ds,batch_size=8)"
   ]
  },
  {
   "cell_type": "code",
   "execution_count": 99,
   "metadata": {},
   "outputs": [],
   "source": [
    "config_=dict()\n",
    "config_[\"lr\"]=0.3\n",
    "config_[\"crit\"]=nn.L1Loss()\n",
    "config_[\"optim\"]=optim.Adam(model.parameters(),lr=config_[\"lr\"])\n",
    "config_[\"save_dir\"]=\"models/\"\n",
    "config_[\"epochs\"]=10\n",
    "config_[\"train_log\"]=[]\n",
    "config_[\"valid_log\"]=[]\n",
    "config_[\"log_interval\"]=4\n",
    "config_[\"device\"]=\"cpu\""
   ]
  },
  {
   "cell_type": "code",
   "execution_count": 100,
   "metadata": {},
   "outputs": [],
   "source": [
    "def train(config,train_dl,valid_dl,model):\n",
    "    '''\n",
    "    config.optimizer: Training optimizer eg) Adam,SGD....\n",
    "    config.criterion: Loss eg) CrossEntropy, \n",
    "    config.lr: learning_rate\n",
    "    train_dl,valid_dl: Dataloader\n",
    "    model: target model\n",
    "    save_path\n",
    "    '''\n",
    "    \n",
    "    for i in range(config[\"epochs\"]):\n",
    "        print(f'Epochs : {i+1}')\n",
    "        model.train()\n",
    "        avg_train_loss=0\n",
    "        for batch_idx,(img,label) in enumerate(train_dl):\n",
    "            #Zero_grad_Optimizer\n",
    "            config[\"optim\"].zero_grad()\n",
    "            \n",
    "            output=model(img)\n",
    "            \n",
    "            #Measure Loss\n",
    "            loss=config[\"crit\"](output,label)\n",
    "            loss.backward()\n",
    "            \n",
    "            #Update Parameters\n",
    "            config[\"optim\"].step()\n",
    "            avg_train_loss+=loss.item()\n",
    "            if batch_idx % config[\"log_interval\"]:\n",
    "                config[\"train_log\"].append(avg_train_loss/(batch_idx+1))\n",
    "                print(loss.item())\n",
    "        model.eval()\n",
    "        valid_loss=0\n",
    "        for batch_idx,(img_label) in enumerate(valid_dl):\n",
    "            output=model(img)\n",
    "            #Measure Loss\n",
    "            loss=config[\"crit\"](output,label)\n",
    "            #Update Parameters\n",
    "            valid_loss+=loss.item()\n",
    "        config[\"valid_log\"].append(valid_loss/(batch_idx+1))\n",
    "    return config,model\n",
    "            \n",
    "    "
   ]
  },
  {
   "cell_type": "code",
   "execution_count": 101,
   "metadata": {},
   "outputs": [
    {
     "name": "stdout",
     "output_type": "stream",
     "text": [
      "Epochs : 1\n",
      "0.48571857810020447\n",
      "0.47112151980400085\n",
      "0.4897589087486267\n",
      "Epochs : 2\n",
      "0.4857294261455536\n",
      "0.47112151980400085\n",
      "0.4897589087486267\n",
      "Epochs : 3\n",
      "0.4857294261455536\n",
      "0.47112151980400085\n",
      "0.4897589087486267\n",
      "Epochs : 4\n",
      "0.4857294261455536\n",
      "0.47112151980400085\n",
      "0.4897589087486267\n",
      "Epochs : 5\n",
      "0.4857294261455536\n",
      "0.47112151980400085\n",
      "0.4897589087486267\n",
      "Epochs : 6\n",
      "0.4857294261455536\n",
      "0.47112151980400085\n",
      "0.4897589087486267\n",
      "Epochs : 7\n",
      "0.4857294261455536\n",
      "0.47112151980400085\n",
      "0.4897589087486267\n",
      "Epochs : 8\n",
      "0.4857294261455536\n",
      "0.47112151980400085\n",
      "0.4897589087486267\n",
      "Epochs : 9\n",
      "0.4857294261455536\n",
      "0.47112151980400085\n",
      "0.4897589087486267\n",
      "Epochs : 10\n",
      "0.4857294261455536\n",
      "0.47112151980400085\n",
      "0.4897589087486267\n"
     ]
    }
   ],
   "source": [
    "config_,model=train(config_,train_dl,valid_dl,model)"
   ]
  },
  {
   "cell_type": "code",
   "execution_count": null,
   "metadata": {},
   "outputs": [],
   "source": []
  }
 ],
 "metadata": {
  "kernelspec": {
   "display_name": "Python 3",
   "language": "python",
   "name": "python3"
  },
  "language_info": {
   "codemirror_mode": {
    "name": "ipython",
    "version": 3
   },
   "file_extension": ".py",
   "mimetype": "text/x-python",
   "name": "python",
   "nbconvert_exporter": "python",
   "pygments_lexer": "ipython3",
   "version": "3.7.9"
  }
 },
 "nbformat": 4,
 "nbformat_minor": 4
}
